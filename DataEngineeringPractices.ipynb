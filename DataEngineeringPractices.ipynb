{
 "cells": [
  {
   "cell_type": "code",
   "execution_count": 0,
   "metadata": {
    "application/vnd.databricks.v1+cell": {
     "cellMetadata": {
      "byteLimit": 2048000,
      "rowLimit": 10000
     },
     "inputWidgets": {},
     "nuid": "1ec009e8-4a3d-4d5b-8f2b-dbf3f7e5ae34",
     "showTitle": false,
     "title": ""
    }
   },
   "outputs": [
    {
     "output_type": "execute_result",
     "data": {
      "text/html": [
       "\n",
       "        <div>\n",
       "            <p><b>SparkContext</b></p>\n",
       "\n",
       "            <p><a href=\"/?o=2138401796344932#setting/sparkui/0724-160406-m01smu9k/driver-1865207018613425730\">Spark UI</a></p>\n",
       "\n",
       "            <dl>\n",
       "              <dt>Version</dt>\n",
       "                <dd><code>v3.5.0</code></dd>\n",
       "              <dt>Master</dt>\n",
       "                <dd><code>spark://10.139.64.4:7077</code></dd>\n",
       "              <dt>AppName</dt>\n",
       "                <dd><code>Databricks Shell</code></dd>\n",
       "            </dl>\n",
       "        </div>\n",
       "        "
      ],
      "text/plain": [
       "<SparkContext master=spark://10.139.64.4:7077 appName=Databricks Shell>"
      ]
     },
     "execution_count": 1,
     "metadata": {},
     "output_type": "execute_result"
    }
   ],
   "source": [
    "sc"
   ]
  },
  {
   "cell_type": "code",
   "execution_count": 0,
   "metadata": {
    "application/vnd.databricks.v1+cell": {
     "cellMetadata": {
      "byteLimit": 2048000,
      "rowLimit": 10000
     },
     "inputWidgets": {},
     "nuid": "ecfc1359-4eff-403a-8387-aa79ff5e3e25",
     "showTitle": false,
     "title": ""
    }
   },
   "outputs": [
    {
     "output_type": "execute_result",
     "data": {
      "text/html": [
       "\n",
       "            <div>\n",
       "                <p><b>SparkSession - hive</b></p>\n",
       "                \n",
       "        <div>\n",
       "            <p><b>SparkContext</b></p>\n",
       "\n",
       "            <p><a href=\"/?o=2138401796344932#setting/sparkui/0724-160406-m01smu9k/driver-1865207018613425730\">Spark UI</a></p>\n",
       "\n",
       "            <dl>\n",
       "              <dt>Version</dt>\n",
       "                <dd><code>v3.5.0</code></dd>\n",
       "              <dt>Master</dt>\n",
       "                <dd><code>spark://10.139.64.4:7077</code></dd>\n",
       "              <dt>AppName</dt>\n",
       "                <dd><code>Databricks Shell</code></dd>\n",
       "            </dl>\n",
       "        </div>\n",
       "        \n",
       "            </div>\n",
       "        "
      ],
      "text/plain": [
       "<pyspark.sql.session.SparkSession at 0x7fdd0caaf6a0>"
      ]
     },
     "execution_count": 2,
     "metadata": {},
     "output_type": "execute_result"
    }
   ],
   "source": [
    "spark"
   ]
  },
  {
   "cell_type": "code",
   "execution_count": 0,
   "metadata": {
    "application/vnd.databricks.v1+cell": {
     "cellMetadata": {
      "byteLimit": 2048000,
      "rowLimit": 10000
     },
     "inputWidgets": {},
     "nuid": "d7e3424e-4343-454a-822b-250dbab0c95d",
     "showTitle": false,
     "title": ""
    }
   },
   "outputs": [],
   "source": [
    "shdf=spark.read.csv(\"/Volumes/azuredatabricks/default/shopping/Online Shoppers Intention.csv\",header=True,inferSchema=True)"
   ]
  },
  {
   "cell_type": "code",
   "execution_count": 0,
   "metadata": {
    "application/vnd.databricks.v1+cell": {
     "cellMetadata": {
      "byteLimit": 2048000,
      "rowLimit": 10000
     },
     "inputWidgets": {},
     "nuid": "3211b8fe-8bcd-42c2-a757-d4698928a13b",
     "showTitle": false,
     "title": ""
    }
   },
   "outputs": [
    {
     "output_type": "stream",
     "name": "stdout",
     "output_type": "stream",
     "text": [
      "root\n |-- Administrative: integer (nullable = true)\n |-- Administrative_Duration: double (nullable = true)\n |-- Informational: integer (nullable = true)\n |-- Informational_Duration: double (nullable = true)\n |-- ProductRelated: integer (nullable = true)\n |-- ProductRelated_Duration: double (nullable = true)\n |-- BounceRates: double (nullable = true)\n |-- ExitRates: double (nullable = true)\n |-- PageValues: double (nullable = true)\n |-- SpecialDay: double (nullable = true)\n |-- Month: string (nullable = true)\n |-- OperatingSystems: integer (nullable = true)\n |-- Browser: integer (nullable = true)\n |-- Region: integer (nullable = true)\n |-- TrafficType: integer (nullable = true)\n |-- VisitorType: string (nullable = true)\n |-- Weekend: boolean (nullable = true)\n |-- Revenue: boolean (nullable = true)\n\n"
     ]
    }
   ],
   "source": [
    "shdf.printSchema()"
   ]
  },
  {
   "cell_type": "markdown",
   "metadata": {
    "application/vnd.databricks.v1+cell": {
     "cellMetadata": {},
     "inputWidgets": {},
     "nuid": "e1b8d345-9974-475b-ae8c-b3374e6173be",
     "showTitle": false,
     "title": ""
    }
   },
   "source": [
    "data cleaning and preprocessing"
   ]
  },
  {
   "cell_type": "code",
   "execution_count": 0,
   "metadata": {
    "application/vnd.databricks.v1+cell": {
     "cellMetadata": {
      "byteLimit": 2048000,
      "rowLimit": 10000
     },
     "inputWidgets": {},
     "nuid": "406663d4-b24f-4b3e-af9e-1620b828a5c9",
     "showTitle": false,
     "title": ""
    }
   },
   "outputs": [
    {
     "output_type": "stream",
     "name": "stdout",
     "output_type": "stream",
     "text": [
      "+--------------+-----------------------+-------------+----------------------+--------------+-----------------------+-----------+---------+----------+----------+-----+----------------+-------+------+-----------+-----------+-------+-------+\n|Administrative|Administrative_Duration|Informational|Informational_Duration|ProductRelated|ProductRelated_Duration|BounceRates|ExitRates|PageValues|SpecialDay|Month|OperatingSystems|Browser|Region|TrafficType|VisitorType|Weekend|Revenue|\n+--------------+-----------------------+-------------+----------------------+--------------+-----------------------+-----------+---------+----------+----------+-----+----------------+-------+------+-----------+-----------+-------+-------+\n|            14|                     14|           14|                    14|            14|                     14|         14|       14|         0|         0|    0|               0|      0|     0|          0|          0|      0|      0|\n+--------------+-----------------------+-------------+----------------------+--------------+-----------------------+-----------+---------+----------+----------+-----+----------------+-------+------+-----------+-----------+-------+-------+\n\n"
     ]
    }
   ],
   "source": [
    "from pyspark.sql.functions import*\n",
    "shdf.select([count(when(isnull(col), col)).alias(col) for col in shdf.columns]).show()"
   ]
  },
  {
   "cell_type": "code",
   "execution_count": 0,
   "metadata": {
    "application/vnd.databricks.v1+cell": {
     "cellMetadata": {
      "byteLimit": 2048000,
      "rowLimit": 10000
     },
     "inputWidgets": {},
     "nuid": "d1f71e0a-da20-4efa-88cd-ba92d4189bfe",
     "showTitle": false,
     "title": ""
    }
   },
   "outputs": [],
   "source": [
    "shdf=shdf.na.drop()"
   ]
  },
  {
   "cell_type": "code",
   "execution_count": 0,
   "metadata": {
    "application/vnd.databricks.v1+cell": {
     "cellMetadata": {
      "byteLimit": 2048000,
      "rowLimit": 10000
     },
     "inputWidgets": {},
     "nuid": "48a2e26a-673f-4c51-a895-56cc0c4ed06a",
     "showTitle": false,
     "title": ""
    }
   },
   "outputs": [],
   "source": [
    "shdf=shdf.dropDuplicates().fillna"
   ]
  },
  {
   "cell_type": "code",
   "execution_count": 0,
   "metadata": {
    "application/vnd.databricks.v1+cell": {
     "cellMetadata": {
      "byteLimit": 2048000,
      "rowLimit": 10000
     },
     "inputWidgets": {},
     "nuid": "34fe8d75-2d40-4466-8df1-685fd34351ee",
     "showTitle": false,
     "title": ""
    }
   },
   "outputs": [
    {
     "output_type": "stream",
     "name": "stdout",
     "output_type": "stream",
     "text": [
      "+--------------+-----------------------+-------------+----------------------+--------------+-----------------------+-----------+---------+----------+----------+-----+----------------+-------+------+-----------+-----------+-------+-------+\n|Administrative|Administrative_Duration|Informational|Informational_Duration|ProductRelated|ProductRelated_Duration|BounceRates|ExitRates|PageValues|SpecialDay|Month|OperatingSystems|Browser|Region|TrafficType|VisitorType|Weekend|Revenue|\n+--------------+-----------------------+-------------+----------------------+--------------+-----------------------+-----------+---------+----------+----------+-----+----------------+-------+------+-----------+-----------+-------+-------+\n|             0|                      0|            0|                     0|             0|                      0|          0|        0|         0|         0|    0|               0|      0|     0|          0|          0|      0|      0|\n+--------------+-----------------------+-------------+----------------------+--------------+-----------------------+-----------+---------+----------+----------+-----+----------------+-------+------+-----------+-----------+-------+-------+\n\n"
     ]
    }
   ],
   "source": [
    "shdf.select([count(when(isnull(col), col)).alias(col) for col in shdf.columns]).show()"
   ]
  },
  {
   "cell_type": "markdown",
   "metadata": {
    "application/vnd.databricks.v1+cell": {
     "cellMetadata": {},
     "inputWidgets": {},
     "nuid": "2c6498e5-6ab6-4d78-85ae-9f42e61c4f9f",
     "showTitle": false,
     "title": ""
    }
   },
   "source": [
    "transformation\n"
   ]
  },
  {
   "cell_type": "code",
   "execution_count": 0,
   "metadata": {
    "application/vnd.databricks.v1+cell": {
     "cellMetadata": {
      "byteLimit": 2048000,
      "rowLimit": 10000
     },
     "inputWidgets": {},
     "nuid": "ec17740b-1a45-43f6-9c96-aa3f9fe20fa8",
     "showTitle": false,
     "title": ""
    }
   },
   "outputs": [],
   "source": [
    "#categorical values to numerical"
   ]
  },
  {
   "cell_type": "code",
   "execution_count": 0,
   "metadata": {
    "application/vnd.databricks.v1+cell": {
     "cellMetadata": {
      "byteLimit": 2048000,
      "rowLimit": 10000
     },
     "inputWidgets": {},
     "nuid": "860eaefd-c0be-4be7-bfa3-cf6d04360a0a",
     "showTitle": false,
     "title": ""
    }
   },
   "outputs": [
    {
     "output_type": "stream",
     "name": "stdout",
     "output_type": "stream",
     "text": [
      "+-----------------+\n|      VisitorType|\n+-----------------+\n|      New_Visitor|\n|            Other|\n|Returning_Visitor|\n+-----------------+\n\n"
     ]
    }
   ],
   "source": [
    "shdf.select('VisitorType').distinct().show()"
   ]
  },
  {
   "cell_type": "code",
   "execution_count": 0,
   "metadata": {
    "application/vnd.databricks.v1+cell": {
     "cellMetadata": {
      "byteLimit": 2048000,
      "rowLimit": 10000
     },
     "inputWidgets": {},
     "nuid": "afb26876-67ba-458b-b34a-91d10bfcfe65",
     "showTitle": false,
     "title": ""
    }
   },
   "outputs": [],
   "source": [
    "shdf=shdf.withColumn(\"VisitorType\",regexp_replace(\"VisitorType\",\"New_Visitor\",\"0\"))\n",
    "shdf=shdf.withColumn(\"VisitorType\",regexp_replace(\"VisitorType\",\"Other\",\"1\"))\n",
    "shdf=shdf.withColumn(\"VisitorType\",regexp_replace(\"VisitorType\",\"Returning_Visitor\",\"2\"))"
   ]
  },
  {
   "cell_type": "code",
   "execution_count": 0,
   "metadata": {
    "application/vnd.databricks.v1+cell": {
     "cellMetadata": {
      "byteLimit": 2048000,
      "rowLimit": 10000
     },
     "inputWidgets": {},
     "nuid": "d68a48b5-8f9d-495c-a663-94cf3df628a4",
     "showTitle": false,
     "title": ""
    }
   },
   "outputs": [],
   "source": [
    "from pyspark.sql.types import IntegerType\n",
    "shdf=shdf.withColumn(\"VisitorType\",col(\"VisitorType\").cast(IntegerType()))"
   ]
  },
  {
   "cell_type": "code",
   "execution_count": 0,
   "metadata": {
    "application/vnd.databricks.v1+cell": {
     "cellMetadata": {
      "byteLimit": 2048000,
      "rowLimit": 10000
     },
     "inputWidgets": {},
     "nuid": "bb799c24-53a6-4e3b-a22a-e642e2b72cc1",
     "showTitle": false,
     "title": ""
    }
   },
   "outputs": [
    {
     "output_type": "stream",
     "name": "stdout",
     "output_type": "stream",
     "text": [
      "+--------------+-----------------------+-------------+----------------------+--------------+-----------------------+-----------+-----------+-----------+----------+-----+----------------+-------+------+-----------+-----------+-------+-------+\n|Administrative|Administrative_Duration|Informational|Informational_Duration|ProductRelated|ProductRelated_Duration|BounceRates|  ExitRates| PageValues|SpecialDay|Month|OperatingSystems|Browser|Region|TrafficType|VisitorType|Weekend|Revenue|\n+--------------+-----------------------+-------------+----------------------+--------------+-----------------------+-----------+-----------+-----------+----------+-----+----------------+-------+------+-----------+-----------+-------+-------+\n|             2|                    2.0|            3|                 261.0|            10|                  281.0|        0.0|0.042857143|        0.0|       0.0|  Mar|               2|      2|     1|          2|          2|  false|  false|\n|             0|                    0.0|            1|                   0.0|             1|                   13.0|        0.0|        0.1|        0.0|       0.0|  Mar|               3|      2|     3|          1|          2|  false|  false|\n|             0|                    0.0|            2|                  39.0|            15|                  245.0|        0.0|     0.0125| 11.9955404|       0.0|  Mar|               2|      2|     1|          3|          2|   true|   true|\n|             2|                   95.5|            0|                   0.0|            13|                  334.5|        0.0|0.002666667|        0.0|       0.0|  Mar|               3|      2|     1|          8|          0|  false|  false|\n|             9|            110.4090909|            1|                  51.0|            62|            3120.211102|  5.6338E-4|0.017396907|7.891171006|       0.0|  Mar|               2|      2|     1|         10|          2|  false|  false|\n+--------------+-----------------------+-------------+----------------------+--------------+-----------------------+-----------+-----------+-----------+----------+-----+----------------+-------+------+-----------+-----------+-------+-------+\nonly showing top 5 rows\n\n"
     ]
    }
   ],
   "source": [
    "shdf.show(5)"
   ]
  },
  {
   "cell_type": "code",
   "execution_count": 0,
   "metadata": {
    "application/vnd.databricks.v1+cell": {
     "cellMetadata": {
      "byteLimit": 2048000,
      "rowLimit": 10000
     },
     "inputWidgets": {},
     "nuid": "63e924cd-70e8-4848-984a-8a65e3bc2a34",
     "showTitle": false,
     "title": ""
    }
   },
   "outputs": [],
   "source": [
    "shdf1=shdf.groupby(\"VisitorType\")"
   ]
  },
  {
   "cell_type": "code",
   "execution_count": 0,
   "metadata": {
    "application/vnd.databricks.v1+cell": {
     "cellMetadata": {
      "byteLimit": 2048000,
      "rowLimit": 10000
     },
     "inputWidgets": {},
     "nuid": "92998081-422a-4e83-9d20-1483048d4783",
     "showTitle": false,
     "title": ""
    }
   },
   "outputs": [
    {
     "output_type": "stream",
     "name": "stdout",
     "output_type": "stream",
     "text": [
      "+-----------+--------------------+\n|VisitorType|       avg exit rate|\n+-----------+--------------------+\n|          1|0.056600458148148125|\n|          2| 0.04477715327692973|\n|          0|0.020574603134081524|\n+-----------+--------------------+\n\n"
     ]
    }
   ],
   "source": [
    "shdf1=shdf.groupby(\"VisitorType\").agg(mean(\"ExitRates\").alias(\"avg exit rate\")).show()"
   ]
  },
  {
   "cell_type": "code",
   "execution_count": 0,
   "metadata": {
    "application/vnd.databricks.v1+cell": {
     "cellMetadata": {
      "byteLimit": 2048000,
      "rowLimit": 10000
     },
     "inputWidgets": {},
     "nuid": "0ef6125b-0f80-45e3-8db5-0f2978c02863",
     "showTitle": false,
     "title": ""
    }
   },
   "outputs": [
    {
     "output_type": "stream",
     "name": "stdout",
     "output_type": "stream",
     "text": [
      "+--------------+-----------------------+-------------+----------------------+--------------+-----------------------+-----------+---------+----------+----------+-----+----------------+-------+------+-----------+-----------+-------+-------+\n|Administrative|Administrative_Duration|Informational|Informational_Duration|ProductRelated|ProductRelated_Duration|BounceRates|ExitRates|PageValues|SpecialDay|Month|OperatingSystems|Browser|Region|TrafficType|VisitorType|Weekend|Revenue|\n+--------------+-----------------------+-------------+----------------------+--------------+-----------------------+-----------+---------+----------+----------+-----+----------------+-------+------+-----------+-----------+-------+-------+\n|             0|                   -1.0|            0|                  -1.0|             1|                   -1.0|        0.2|      0.2|       0.0|       0.0|  Feb|               3|      3|     1|          3|          2|  false|  false|\n|             0|                   -1.0|            0|                  -1.0|             1|                   -1.0|        0.2|      0.2|       0.0|       0.4|  Feb|               2|      4|     3|          3|          2|  false|  false|\n|             0|                   -1.0|            0|                  -1.0|             1|                   -1.0|        0.2|      0.2|       0.0|       0.0|  Mar|               3|      2|     3|          3|          2|  false|  false|\n|             0|                   -1.0|            0|                  -1.0|             1|                   -1.0|        0.2|      0.2|       0.0|       0.0|  Nov|               2|      2|     1|         13|          2|  false|  false|\n|             0|                   -1.0|            0|                  -1.0|             1|                   -1.0|        0.2|      0.2|       0.0|       0.0|  Mar|               1|      1|     1|          1|          2|  false|  false|\n|             0|                   -1.0|            0|                  -1.0|             1|                   -1.0|        0.2|      0.2|       0.0|       0.0|  Feb|               2|      2|     4|          1|          2|   true|  false|\n|             0|                   -1.0|            0|                  -1.0|             1|                   -1.0|        0.2|      0.2|       0.0|       0.0|  Feb|               1|      1|     3|          4|          2|   true|  false|\n|             0|                   -1.0|            0|                  -1.0|             1|                   -1.0|        0.2|      0.2|       0.0|       0.0|  Feb|               4|      1|     9|          3|          2|  false|  false|\n|             0|                   -1.0|            0|                  -1.0|             1|                   -1.0|        0.2|      0.2|       0.0|       0.0|  May|               2|     10|     5|          1|          2|  false|  false|\n|             0|                   -1.0|            0|                  -1.0|             1|                   -1.0|        0.2|      0.2|       0.0|       0.0|  Feb|               2|      4|     1|          1|          2|  false|  false|\n+--------------+-----------------------+-------------+----------------------+--------------+-----------------------+-----------+---------+----------+----------+-----+----------------+-------+------+-----------+-----------+-------+-------+\nonly showing top 10 rows\n\n"
     ]
    }
   ],
   "source": [
    "shdf.orderBy(col(\"ProductRelated_Duration\")).show(10)"
   ]
  },
  {
   "cell_type": "code",
   "execution_count": 0,
   "metadata": {
    "application/vnd.databricks.v1+cell": {
     "cellMetadata": {
      "byteLimit": 2048000,
      "rowLimit": 10000
     },
     "inputWidgets": {},
     "nuid": "671377c4-6a60-48a7-8135-68e73cc27dcb",
     "showTitle": false,
     "title": ""
    }
   },
   "outputs": [],
   "source": [
    "partitioned_df=shdf.repartition(3)"
   ]
  },
  {
   "cell_type": "code",
   "execution_count": 0,
   "metadata": {
    "application/vnd.databricks.v1+cell": {
     "cellMetadata": {
      "byteLimit": 2048000,
      "rowLimit": 10000
     },
     "inputWidgets": {},
     "nuid": "c5da92d4-ad1b-4e26-8e50-8ff575f287a6",
     "showTitle": false,
     "title": ""
    }
   },
   "outputs": [],
   "source": [
    "partitioned_df.write.mode(\"append\").parquet(\"/Volumes/azuredatabricks/default/Shopping/\")"
   ]
  },
  {
   "cell_type": "code",
   "execution_count": 0,
   "metadata": {
    "application/vnd.databricks.v1+cell": {
     "cellMetadata": {
      "byteLimit": 2048000,
      "rowLimit": 10000
     },
     "inputWidgets": {},
     "nuid": "6dac4266-8f4a-484a-9f08-9796fed2e94d",
     "showTitle": false,
     "title": ""
    }
   },
   "outputs": [
    {
     "output_type": "execute_result",
     "data": {
      "text/plain": [
       "DataFrame[Administrative: int, Administrative_Duration: double, Informational: int, Informational_Duration: double, ProductRelated: int, ProductRelated_Duration: double, BounceRates: double, ExitRates: double, PageValues: double, SpecialDay: double, Month: string, OperatingSystems: int, Browser: int, Region: int, TrafficType: int, VisitorType: int, Weekend: boolean, Revenue: boolean]"
      ]
     },
     "execution_count": 58,
     "metadata": {},
     "output_type": "execute_result"
    }
   ],
   "source": [
    "shdf.cache()"
   ]
  },
  {
   "cell_type": "markdown",
   "metadata": {
    "application/vnd.databricks.v1+cell": {
     "cellMetadata": {},
     "inputWidgets": {},
     "nuid": "72db69e0-2cfe-4c5a-b68a-b26563d2adb2",
     "showTitle": false,
     "title": ""
    }
   },
   "source": [
    "joining and merging datasets"
   ]
  },
  {
   "cell_type": "code",
   "execution_count": 0,
   "metadata": {
    "application/vnd.databricks.v1+cell": {
     "cellMetadata": {
      "byteLimit": 2048000,
      "rowLimit": 10000
     },
     "inputWidgets": {},
     "nuid": "a5953353-9bcf-46b6-b8ce-a167c02695c0",
     "showTitle": false,
     "title": ""
    }
   },
   "outputs": [],
   "source": [
    "flights_df = spark.read.csv(\"/Volumes/azuredatabricks/default/shopping/raw_flight_data.csv\", inferSchema=True, header = True)"
   ]
  },
  {
   "cell_type": "code",
   "execution_count": 0,
   "metadata": {
    "application/vnd.databricks.v1+cell": {
     "cellMetadata": {
      "byteLimit": 2048000,
      "rowLimit": 10000
     },
     "inputWidgets": {},
     "nuid": "e37735b0-4d1e-4078-88a1-663a60af063b",
     "showTitle": false,
     "title": ""
    }
   },
   "outputs": [],
   "source": [
    "airports_df = spark.read.csv(\"/Volumes/azuredatabricks/default/shopping/airports.csv\", header = True,\n",
    "                            inferSchema=True)"
   ]
  },
  {
   "cell_type": "code",
   "execution_count": 0,
   "metadata": {
    "application/vnd.databricks.v1+cell": {
     "cellMetadata": {
      "byteLimit": 2048000,
      "rowLimit": 10000
     },
     "inputWidgets": {},
     "nuid": "1aa08bc0-3fcb-4088-b81c-10da4e2f4167",
     "showTitle": false,
     "title": ""
    }
   },
   "outputs": [],
   "source": [
    "flightairportDF=flights_df.join(airports_df,flights_df.OriginAirportID == airports_df.airport_id)"
   ]
  },
  {
   "cell_type": "code",
   "execution_count": 0,
   "metadata": {
    "application/vnd.databricks.v1+cell": {
     "cellMetadata": {},
     "inputWidgets": {},
     "nuid": "c65f01d4-e082-4512-b16b-79dc98076d53",
     "showTitle": false,
     "title": ""
    }
   },
   "outputs": [],
   "source": []
  }
 ],
 "metadata": {
  "application/vnd.databricks.v1+notebook": {
   "dashboards": [],
   "environmentMetadata": null,
   "language": "python",
   "notebookMetadata": {
    "pythonIndentUnit": 4
   },
   "notebookName": "DataEngineeringPractices",
   "widgets": {}
  }
 },
 "nbformat": 4,
 "nbformat_minor": 0
}
