{
 "cells": [
  {
   "cell_type": "code",
   "execution_count": 0,
   "metadata": {
    "application/vnd.databricks.v1+cell": {
     "cellMetadata": {
      "byteLimit": 2048000,
      "rowLimit": 10000
     },
     "inputWidgets": {},
     "nuid": "60c90749-4c73-4bdf-a6cd-ca259dcd8ead",
     "showTitle": false,
     "title": ""
    }
   },
   "outputs": [
    {
     "output_type": "execute_result",
     "data": {
      "text/html": [
       "\n",
       "        <div>\n",
       "            <p><b>SparkContext</b></p>\n",
       "\n",
       "            <p><a href=\"/?o=4478847665354788#setting/sparkui/0724-045034-ibl0rmgk/driver-4479701747312346364\">Spark UI</a></p>\n",
       "\n",
       "            <dl>\n",
       "              <dt>Version</dt>\n",
       "                <dd><code>v3.5.0</code></dd>\n",
       "              <dt>Master</dt>\n",
       "                <dd><code>spark://10.139.64.4:7077</code></dd>\n",
       "              <dt>AppName</dt>\n",
       "                <dd><code>Databricks Shell</code></dd>\n",
       "            </dl>\n",
       "        </div>\n",
       "        "
      ],
      "text/plain": [
       "<SparkContext master=spark://10.139.64.4:7077 appName=Databricks Shell>"
      ]
     },
     "execution_count": 1,
     "metadata": {},
     "output_type": "execute_result"
    }
   ],
   "source": [
    "sc"
   ]
  },
  {
   "cell_type": "code",
   "execution_count": 0,
   "metadata": {
    "application/vnd.databricks.v1+cell": {
     "cellMetadata": {
      "byteLimit": 2048000,
      "rowLimit": 10000
     },
     "inputWidgets": {},
     "nuid": "2d991dc1-078f-4ec3-9d23-1271b81d6661",
     "showTitle": false,
     "title": ""
    }
   },
   "outputs": [
    {
     "output_type": "execute_result",
     "data": {
      "text/html": [
       "\n",
       "            <div>\n",
       "                <p><b>SparkSession - hive</b></p>\n",
       "                \n",
       "        <div>\n",
       "            <p><b>SparkContext</b></p>\n",
       "\n",
       "            <p><a href=\"/?o=4478847665354788#setting/sparkui/0724-045034-ibl0rmgk/driver-4479701747312346364\">Spark UI</a></p>\n",
       "\n",
       "            <dl>\n",
       "              <dt>Version</dt>\n",
       "                <dd><code>v3.5.0</code></dd>\n",
       "              <dt>Master</dt>\n",
       "                <dd><code>spark://10.139.64.4:7077</code></dd>\n",
       "              <dt>AppName</dt>\n",
       "                <dd><code>Databricks Shell</code></dd>\n",
       "            </dl>\n",
       "        </div>\n",
       "        \n",
       "            </div>\n",
       "        "
      ],
      "text/plain": [
       "<pyspark.sql.session.SparkSession at 0x7f59fb906e60>"
      ]
     },
     "execution_count": 3,
     "metadata": {},
     "output_type": "execute_result"
    }
   ],
   "source": [
    "spark"
   ]
  },
  {
   "cell_type": "code",
   "execution_count": 0,
   "metadata": {
    "application/vnd.databricks.v1+cell": {
     "cellMetadata": {
      "byteLimit": 2048000,
      "rowLimit": 10000
     },
     "inputWidgets": {},
     "nuid": "26cc8164-2709-4e7b-b652-9cde62774bf2",
     "showTitle": false,
     "title": ""
    }
   },
   "outputs": [],
   "source": [
    "from pyspark import SparkConf,SparkContext\n",
    "from pyspark.sql import SparkSession"
   ]
  },
  {
   "cell_type": "code",
   "execution_count": 0,
   "metadata": {
    "application/vnd.databricks.v1+cell": {
     "cellMetadata": {
      "byteLimit": 2048000,
      "rowLimit": 10000
     },
     "inputWidgets": {},
     "nuid": "61337338-d202-4fbc-8eaf-59ba415f8f04",
     "showTitle": false,
     "title": ""
    }
   },
   "outputs": [],
   "source": [
    "spark= SparkSession.builder.appName(\"SparkDatasets\").getOrCreate()"
   ]
  },
  {
   "cell_type": "code",
   "execution_count": 0,
   "metadata": {
    "application/vnd.databricks.v1+cell": {
     "cellMetadata": {
      "byteLimit": 2048000,
      "rowLimit": 10000
     },
     "inputWidgets": {},
     "nuid": "893fc09f-635f-4b85-bd9e-a4e52d674d8b",
     "showTitle": false,
     "title": ""
    }
   },
   "outputs": [
    {
     "output_type": "execute_result",
     "data": {
      "text/html": [
       "\n",
       "            <div>\n",
       "                <p><b>SparkSession - hive</b></p>\n",
       "                \n",
       "        <div>\n",
       "            <p><b>SparkContext</b></p>\n",
       "\n",
       "            <p><a href=\"/?o=4478847665354788#setting/sparkui/0724-045034-ibl0rmgk/driver-4479701747312346364\">Spark UI</a></p>\n",
       "\n",
       "            <dl>\n",
       "              <dt>Version</dt>\n",
       "                <dd><code>v3.5.0</code></dd>\n",
       "              <dt>Master</dt>\n",
       "                <dd><code>spark://10.139.64.4:7077</code></dd>\n",
       "              <dt>AppName</dt>\n",
       "                <dd><code>Databricks Shell</code></dd>\n",
       "            </dl>\n",
       "        </div>\n",
       "        \n",
       "            </div>\n",
       "        "
      ],
      "text/plain": [
       "<pyspark.sql.session.SparkSession at 0x7f59fb906e60>"
      ]
     },
     "execution_count": 7,
     "metadata": {},
     "output_type": "execute_result"
    }
   ],
   "source": [
    "spark"
   ]
  },
  {
   "cell_type": "markdown",
   "metadata": {
    "application/vnd.databricks.v1+cell": {
     "cellMetadata": {},
     "inputWidgets": {},
     "nuid": "6d22934d-9791-4871-9691-d5cc29a8f2a4",
     "showTitle": false,
     "title": ""
    }
   },
   "source": [
    "### 1.create a dataset "
   ]
  },
  {
   "cell_type": "code",
   "execution_count": 0,
   "metadata": {
    "application/vnd.databricks.v1+cell": {
     "cellMetadata": {
      "byteLimit": 2048000,
      "rowLimit": 10000
     },
     "inputWidgets": {},
     "nuid": "2753e7b4-3d60-49a1-91c6-bd1a6e51972b",
     "showTitle": false,
     "title": ""
    }
   },
   "outputs": [],
   "source": [
    "data = [\n",
    "    (\"P001\", \"Laptop\", 1200.00, \"2024-01-05 14:35:00\", 200.00, \"Credit Card\"),\n",
    "    (\"P002\", \"Smartphone\", 800.00, \"2024-01-07 09:20:00\", 150.00, \"Paypal\"),\n",
    "    (\"P003\", \"Tablet\", 450.00, \"2024-01-10 11:50:00\", 75.00, \"Credit Card\"),\n",
    "    (\"P004\", \"Headphones\", 150.00, \"2024-01-12 15:15:00\", 50.00, \"Cash\"),\n",
    "    (\"P005\", \"Smartwatch\", 220.00, \"2024-01-14 12:05:00\", 40.00, \"Credit Card\"),\n",
    "    (\"P006\", \"Camera\", 500.00, \"2024-01-16 13:45:00\", 100.00, \"Debit Card\"),\n",
    "    (\"P007\", \"Printer\", 300.00, \"2024-01-18 16:25:00\", 60.00, \"Paypal\"),\n",
    "    (\"P008\", \"Monitor\", 250.00, \"2024-01-20 10:35:00\", 45.00, \"Credit Card\"),\n",
    "    (\"P009\", \"Keyboard\", 70.00, \"2024-01-22 09:50:00\", 20.00, \"Cash\"),\n",
    "    (\"P010\", \"Mouse\", 40.00, \"2024-01-24 08:25:00\", 15.00, \"Credit Card\"),\n",
    "    (\"P011\", \"Desk Lamp\", 30.00, \"2024-01-26 17:15:00\", 10.00, \"Debit Card\"),\n",
    "    (\"P012\", \"Webcam\", 80.00, \"2024-01-28 14:50:00\", 25.00, \"Paypal\"),\n",
    "    (\"P013\", \"External Hard Drive\", 120.00, \"2024-01-30 11:35:00\", 30.00, \"UPI\"),\n",
    "    (\"P014\", \"Router\", 90.00, \"2024-02-02 10:20:00\", 20.00, \"Cash\"),\n",
    "    (\"P015\", \"USB Flash Drive\", 25.00, \"2024-02-04 12:55:00\", 10.00, \"Credit Card\"),\n",
    "    (\"P016\", \"Smart Speaker\", 150.00, \"2024-02-06 09:10:00\", 35.00, \"Debit Card\"),\n",
    "    (\"P017\", \"Projector\", 350.00, \"2024-02-08 16:40:00\", 70.00, \"Paypal\"),\n",
    "    (\"P018\", \"Game Console\", 400.00, \"2024-02-10 18:20:00\", 80.00, \"Credit Card\"),\n",
    "    (\"P019\", \"VR Headset\", 300.00, \"2024-02-12 15:55:00\", 50.00, \"Cash\"),\n",
    "    (\"P020\", \"Bluetooth Speaker\", 60.00, \"2024-02-14 11:25:00\", 20.00, \"UPI\"),\n",
    "    (\"P021\", \"Fitness Tracker\", 130.00, \"2024-02-16 14:10:00\", 30.00, \"Debit Card\"),\n",
    "    (\"P022\", \"Electric Kettle\", 40.00, \"2024-02-18 13:45:00\", 15.00, \"Paypal\"),\n",
    "    (\"P023\", \"Coffee Maker\", 100.00, \"2024-02-20 09:30:00\", 20.00, \"Credit Card\"),\n",
    "    (\"P024\", \"Microwave\", 150.00, \"2024-02-22 12:00:00\", 35.00, \"Cash\"),\n",
    "    (\"P025\", \"Blender\", 60.00, \"2024-02-24 16:30:00\", 15.00, \"Credit Card\"),\n",
    "    (\"P026\", \"Toaster\", 30.00, \"2024-02-26 10:45:00\", 10.00, \"Debit Card\"),\n",
    "    (\"P027\", \"Juicer\", 80.00, \"2024-02-28 14:20:00\", 25.00, \"Paypal\"),\n",
    "    (\"P028\", \"Air Fryer\", 120.00, \"2024-03-02 11:10:00\", 30.00, \"Credit Card\"),\n",
    "    (\"P029\", \"Vacuum Cleaner\", 200.00, \"2024-03-04 17:50:00\", 40.00, \"UPI\"),\n",
    "    (\"P030\", \"Air Purifier\", 150.00, \"2024-03-06 15:30:00\", 35.00, \"Credit Card\")\n",
    "]\n",
    "\n",
    "\n",
    "columns = [\"PRODUCTCODE\",\"PRODUCTNAME\",\"SALES\",\"DATETIME\",\"PROFIT\",\"PAYMENTMETHOD\"]"
   ]
  },
  {
   "cell_type": "code",
   "execution_count": 0,
   "metadata": {
    "application/vnd.databricks.v1+cell": {
     "cellMetadata": {
      "byteLimit": 2048000,
      "rowLimit": 10000
     },
     "inputWidgets": {},
     "nuid": "3225fcaa-6f11-4816-81c7-6d92fa6f504c",
     "showTitle": false,
     "title": ""
    }
   },
   "outputs": [
    {
     "output_type": "stream",
     "name": "stdout",
     "output_type": "stream",
     "text": [
      "+-----------+-------------------+------+-------------------+------+-------------+\n|PRODUCTCODE|        PRODUCTNAME| SALES|           DATETIME|PROFIT|PAYMENTMETHOD|\n+-----------+-------------------+------+-------------------+------+-------------+\n|       P001|             Laptop|1200.0|2024-01-05 14:35:00| 200.0|  Credit Card|\n|       P002|         Smartphone| 800.0|2024-01-07 09:20:00| 150.0|       Paypal|\n|       P003|             Tablet| 450.0|2024-01-10 11:50:00|  75.0|  Credit Card|\n|       P004|         Headphones| 150.0|2024-01-12 15:15:00|  50.0|         Cash|\n|       P005|         Smartwatch| 220.0|2024-01-14 12:05:00|  40.0|  Credit Card|\n|       P006|             Camera| 500.0|2024-01-16 13:45:00| 100.0|   Debit Card|\n|       P007|            Printer| 300.0|2024-01-18 16:25:00|  60.0|       Paypal|\n|       P008|            Monitor| 250.0|2024-01-20 10:35:00|  45.0|  Credit Card|\n|       P009|           Keyboard|  70.0|2024-01-22 09:50:00|  20.0|         Cash|\n|       P010|              Mouse|  40.0|2024-01-24 08:25:00|  15.0|  Credit Card|\n|       P011|          Desk Lamp|  30.0|2024-01-26 17:15:00|  10.0|   Debit Card|\n|       P012|             Webcam|  80.0|2024-01-28 14:50:00|  25.0|       Paypal|\n|       P013|External Hard Drive| 120.0|2024-01-30 11:35:00|  30.0|          UPI|\n|       P014|             Router|  90.0|2024-02-02 10:20:00|  20.0|         Cash|\n|       P015|    USB Flash Drive|  25.0|2024-02-04 12:55:00|  10.0|  Credit Card|\n|       P016|      Smart Speaker| 150.0|2024-02-06 09:10:00|  35.0|   Debit Card|\n|       P017|          Projector| 350.0|2024-02-08 16:40:00|  70.0|       Paypal|\n|       P018|       Game Console| 400.0|2024-02-10 18:20:00|  80.0|  Credit Card|\n|       P019|         VR Headset| 300.0|2024-02-12 15:55:00|  50.0|         Cash|\n|       P020|  Bluetooth Speaker|  60.0|2024-02-14 11:25:00|  20.0|          UPI|\n+-----------+-------------------+------+-------------------+------+-------------+\nonly showing top 20 rows\n\n"
     ]
    }
   ],
   "source": [
    "df= spark.createDataFrame(data,columns)\n",
    "df.show()"
   ]
  },
  {
   "cell_type": "code",
   "execution_count": 0,
   "metadata": {
    "application/vnd.databricks.v1+cell": {
     "cellMetadata": {
      "byteLimit": 2048000,
      "rowLimit": 10000
     },
     "inputWidgets": {},
     "nuid": "4e046ac5-1eed-4bf6-b54d-1139fc490309",
     "showTitle": false,
     "title": ""
    }
   },
   "outputs": [
    {
     "output_type": "execute_result",
     "data": {
      "text/plain": [
       "DataFrame[PRODUCTCODE: string]"
      ]
     },
     "execution_count": 12,
     "metadata": {},
     "output_type": "execute_result"
    }
   ],
   "source": [
    "from pyspark.sql import Row\n",
    "#define a case class using row fn\n",
    "Sales = Row(\"PRODUCTCODE\",\"PRODUCTNAME\",\"SALES\",\"DATETIME\",\"PROFIT\",\"PAYMENTMETHOD\")\n",
    "df.rdd.map(lambda row: Sales(\"row\")).toDF()"
   ]
  },
  {
   "cell_type": "code",
   "execution_count": 0,
   "metadata": {
    "application/vnd.databricks.v1+cell": {
     "cellMetadata": {},
     "inputWidgets": {},
     "nuid": "08c77c63-08ac-4f4c-ad2c-7562e46a8f22",
     "showTitle": false,
     "title": ""
    }
   },
   "outputs": [],
   "source": [
    "\n"
   ]
  }
 ],
 "metadata": {
  "application/vnd.databricks.v1+notebook": {
   "dashboards": [],
   "environmentMetadata": null,
   "language": "python",
   "notebookMetadata": {
    "pythonIndentUnit": 4
   },
   "notebookName": "spark datasets",
   "widgets": {}
  }
 },
 "nbformat": 4,
 "nbformat_minor": 0
}
